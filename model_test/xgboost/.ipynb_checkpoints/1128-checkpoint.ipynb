{
 "cells": [
  {
   "cell_type": "code",
   "execution_count": 2,
   "metadata": {
    "collapsed": true
   },
   "outputs": [],
   "source": [
    "#rmse for cross validation\n",
    "import numpy as np\n",
    "from sklearn.cross_validation import cross_val_score\n",
    "def rmse_cv(model,X_train,y):\n",
    "    rmse = np.sqrt(-cross_val_score(model,X_train,y,scoring='neg_mean_squared_error',cv=5))\n",
    "    return(rmse)"
   ]
  },
  {
   "cell_type": "code",
   "execution_count": 3,
   "metadata": {
    "collapsed": true
   },
   "outputs": [],
   "source": [
    "import datetime\n",
    "\n",
    "def write_to_csv(output,score):\n",
    "    now = datetime.datetime.now()\n",
    "    sub_file = 'submission_'+str(score)+'_'+str(now.strftime(\"%Y-%m-%d-%H-%M\"))+'.csv'\n",
    "    print('Writing submissions:',sub_file)\n",
    "    f = open(sub_file,'w')\n",
    "    prediction_file_object = csv.writer(f)\n",
    "    prediction_file_object.writerow(['Id','SalePrice'])   # dont forget the headers\n",
    "    for i in range(len(test)):\n",
    "        prediction_file_object.writerow([test[\"Id\"][test.index[i]], (output[i])])"
   ]
  },
  {
   "cell_type": "code",
   "execution_count": 4,
   "metadata": {
    "collapsed": false
   },
   "outputs": [
    {
     "ename": "IndentationError",
     "evalue": "unexpected indent (<ipython-input-4-284d905adf3d>, line 23)",
     "output_type": "error",
     "traceback": [
      "\u001b[0;36m  File \u001b[0;32m\"<ipython-input-4-284d905adf3d>\"\u001b[0;36m, line \u001b[0;32m23\u001b[0m\n\u001b[0;31m    X_train, X_valid = train_test_split(train, test_size=test_size, random_state=0) # randomly split into 90% test and 10% CV -> still has the outcome at this point\u001b[0m\n\u001b[0m    ^\u001b[0m\n\u001b[0;31mIndentationError\u001b[0m\u001b[0;31m:\u001b[0m unexpected indent\n"
     ]
    }
   ],
   "source": [
    "import time\n",
    "\n",
    "def train_and_test_linear(train,test,features,target=\"SalePrice\"):\n",
    "    # simple xgb\n",
    "    subsample = 0.8\n",
    "    colsample_bytree = 0.8\n",
    "    num_boost_round = 1000 # 115 originally\n",
    "    early_stopping_rounds = 50\n",
    "    test_size = 0.2 # 0.1 originally\n",
    "    \n",
    "    start_time = time.time()\n",
    "    \n",
    "    # start training\n",
    "    params = {\n",
    "        \"objective\": \"reg:linear\",\n",
    "        \"booster\" : \"gblinear\", #\"gbtree\",# default\n",
    "        \"eval_metric\": \"rmse\",\n",
    "        \"subsample\": subsample, # collect 80% of the data only to prevent overfitting\n",
    "        \"colsample_bytree\": colsample_bytree,\n",
    "        \"silent\": 1,\n",
    "        \"seed\": 0,\n",
    "    }\n",
    "     X_train, X_valid = train_test_split(train, test_size=test_size, random_state=0) # randomly split into 90% test and 10% CV -> still has the outcome at this point\n",
    "    "
   ]
  },
  {
   "cell_type": "code",
   "execution_count": null,
   "metadata": {
    "collapsed": true
   },
   "outputs": [],
   "source": []
  }
 ],
 "metadata": {
  "kernelspec": {
   "display_name": "Python 2",
   "language": "python",
   "name": "python2"
  },
  "language_info": {
   "codemirror_mode": {
    "name": "ipython",
    "version": 2
   },
   "file_extension": ".py",
   "mimetype": "text/x-python",
   "name": "python",
   "nbconvert_exporter": "python",
   "pygments_lexer": "ipython2",
   "version": "2.7.9"
  }
 },
 "nbformat": 4,
 "nbformat_minor": 1
}
