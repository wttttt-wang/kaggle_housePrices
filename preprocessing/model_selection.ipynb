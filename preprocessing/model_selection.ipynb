{
 "cells": [
  {
   "cell_type": "code",
   "execution_count": 1,
   "metadata": {
    "collapsed": true
   },
   "outputs": [],
   "source": [
    "import pandas as pd\n",
    "import numpy as np\n",
    "from scipy.stats import skew\n",
    "import matplotlib.pyplot as plt\n",
    "%matplotlib inline\n",
    "#step1:reading csv data\n",
    "train = pd.read_csv('../input/train.csv')\n",
    "test = pd.read_csv('../input/test.csv')\n",
    "#train.head()   # take a brief look at training data\n",
    "all_data = pd.concat((train.loc[:,'MSSubClass':'SaleCondition'],\n",
    "                      test.loc[:,'MSSubClass':'SaleCondition'])) # concat training&test data"
   ]
  },
  {
   "cell_type": "code",
   "execution_count": 6,
   "metadata": {
    "collapsed": false
   },
   "outputs": [],
   "source": [
    "from sklearn.pipeline import Pipeline\n",
    "from sklearn.feature_selection import SelectFromModel\n",
    "from sklearn.svm import LinearSVR\n",
    "from sklearn.ensemble import RandomForestRegressor\n",
    "# Pipeline: chain multiple estimators into one.\n",
    "# It serves two purposes:\n",
    "# a. convenience: u only need to call fit and predict once on ur data to fit a whole sequence of estimators.\n",
    "# b. Joint parametre selection: u can grid search over parameters of all estimators in the pipeline at once.\n",
    "estimator = RandomForestRegressor(random_state=0,n_estimators=50)\n",
    "clf = Pipeline([\n",
    "        ('featre_Selection', SelectFromModel(estimator,prefit = True)),\n",
    "        ('regression',LinearSVR())\n",
    "    ])\n",
    "#clf.fit()"
   ]
  },
  {
   "cell_type": "code",
   "execution_count": 7,
   "metadata": {
    "collapsed": true
   },
   "outputs": [],
   "source": [
    "# model validation\n",
    "from sklearn.model_selection import cross_val_score\n",
    "def model_vali(clf,X_train,y):\n",
    "    print(cross_val_score(clf, X_train, np.array(y),cv=5,scoring='neg_mean_squared_error'))"
   ]
  },
  {
   "cell_type": "code",
   "execution_count": 8,
   "metadata": {
    "collapsed": true
   },
   "outputs": [],
   "source": [
    "# Hyper-parameter optimizers\n",
    "# grid search\n",
    "from sklearn.model_selection import GridSearchCV\n",
    "from sklearn import svm\n",
    "\n",
    "def grid_sear(estimator,para,train_x,train_y,):\n",
    "    clf = GridSearchCV(estimator,para,scoring='neg_mean_squared_error')\n",
    "    clf.fit(train_x,train_y)\n",
    "    print sorted(clf.cv_results_.keys())\n",
    "#svr = svm.SVR()\n",
    "#paramters = {'kernel':('linear', 'rbf'), 'C':[1, 10]}\n",
    "#grid_sear(svr,paramters,train_x,train_y)"
   ]
  },
  {
   "cell_type": "code",
   "execution_count": 9,
   "metadata": {
    "collapsed": true
   },
   "outputs": [],
   "source": [
    "# grid search with pipeline\n",
    "from sklearn.model_selection import GridSearchCV\n",
    "def grid_sear_pipeline(pipe,para,train_x,train_y):\n",
    "    clf = GridSearchCV(pipe,param_grid=para)\n",
    "    clf.fit(train_x,train_y)\n",
    "    print sorted(clf.cv_results_.keys())\n",
    "#paramters = dict(reduce_dim__n_components=[2, 5, 10],clf__C=[0.1, 10, 100])\n",
    "#pipe = "
   ]
  },
  {
   "cell_type": "code",
   "execution_count": null,
   "metadata": {
    "collapsed": true
   },
   "outputs": [],
   "source": []
  }
 ],
 "metadata": {
  "kernelspec": {
   "display_name": "Python 2",
   "language": "python",
   "name": "python2"
  },
  "language_info": {
   "codemirror_mode": {
    "name": "ipython",
    "version": 2
   },
   "file_extension": ".py",
   "mimetype": "text/x-python",
   "name": "python",
   "nbconvert_exporter": "python",
   "pygments_lexer": "ipython2",
   "version": "2.7.9"
  }
 },
 "nbformat": 4,
 "nbformat_minor": 1
}
