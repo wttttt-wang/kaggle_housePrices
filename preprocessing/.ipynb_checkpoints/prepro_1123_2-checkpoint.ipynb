{
 "cells": [
  {
   "cell_type": "code",
   "execution_count": 1,
   "metadata": {
    "collapsed": true
   },
   "outputs": [],
   "source": [
    "# PART ONE: Data Reading\n",
    "import pandas as pd\n",
    "import numpy as np\n",
    "from scipy.stats import skew\n",
    "import matplotlib.pyplot as plt\n",
    "%matplotlib inline\n",
    "def read_data():\n",
    "    #step1:reading csv data\n",
    "    train = pd.read_csv('../input/train.csv')\n",
    "    test = pd.read_csv('../input/test.csv')\n",
    "    #train.head()   # take a brief look at training data\n",
    "    all_data = pd.concat((train.loc[:,'MSSubClass':'SaleCondition'],\n",
    "                      test.loc[:,'MSSubClass':'SaleCondition'])) # concat training&test data\n",
    "    return train,test,all_data"
   ]
  },
  {
   "cell_type": "code",
   "execution_count": 2,
   "metadata": {
    "collapsed": true
   },
   "outputs": [],
   "source": [
    "# PART TWO: Filling missing value\n",
    "\n",
    "from scipy.stats import mode\n",
    "# for numeric features, filling with mean(), for categorial features, filling with mode()[most common]\n",
    "def mean_fill(df,attr):\n",
    "    if df[attr].dtype == 'object':\n",
    "        df[attr].fillna(mode(df[attr]).mode[0],inplace=True)\n",
    "    else:\n",
    "        df[attr].fillna(df[attr].mean(),inplace=True)\n",
    "# #test for categorial feature\n",
    "# mean_fill(all_data,'GarageCond')\n",
    "\n",
    "from sklearn.ensemble import RandomForestRegressor\n",
    "def randomforest_fill(df,attr):\n",
    "    # get all the numeric features to predict the missing value, because\n",
    "    # that sklearn's random forest algo can only handle numeric features.\n",
    "    # It could be better to transform the categorial features before calling this method\n",
    "    numeric_df = all_data.loc[:,all_data.isnull().any().values==False].select_dtypes(include = ['float64','int64'])\n",
    "    numeric_df[attr]=df[attr]\n",
    "    numeric_df_notnull = numeric_df.loc[(df[attr].notnull())]\n",
    "    numeric_df_isnull = numeric_df.loc[(df[attr].isnull())]\n",
    "    X = numeric_df_notnull.drop(attr,axis=1)\n",
    "    Y = numeric_df_notnull[attr]\n",
    "    # use RandomForest to train data\n",
    "    clf = RandomForestRegressor(n_estimators = 1000, n_jobs = -1) # n_jobs:The number of jobs to run in parallel for both fit and predict. If -1, then the number of jobs is set to the number of cores\n",
    "    clf.fit(X,Y)\n",
    "    predicted_attr = clf.predict(numeric_df_isnull.drop(attr,axis=1))\n",
    "    df.loc[(df[attr].isnull()),attr] = predicted_attr\n",
    "\n",
    "#randomforest_fill(all_data,'MasVnrArea')\n",
    "## before filling the missing value\n",
    "#all_data.loc[234]['MasVnrArea']\n",
    "''' # output\n",
    "234    NaN\n",
    "234    0.0\n",
    "Name: MasVnrArea, dtype: float64\n",
    "'''\n",
    "## after filling the missing value\n",
    "#all_data.loc[234]['MasVnrArea']\n",
    "''' # output \n",
    "234    82.882\n",
    "234     0.000\n",
    "Name: MasVnrArea, dtype: float64\n",
    "'''\n",
    "\n",
    "# treat the missing value as a different value\n",
    "def ano_value_for_miss(df,attr):\n",
    "    df[attr].fillna('No_value',inplace=True)\n",
    "\n",
    "## test\n",
    "# ano_value_for_miss(all_data, 'Alley')"
   ]
  },
  {
   "cell_type": "code",
   "execution_count": 3,
   "metadata": {
    "collapsed": true
   },
   "outputs": [],
   "source": [
    "# PART THREE: Data Tranformation\n",
    "\n",
    "# data normalization for numeric feature\n",
    "# whether to use this method depends on the model used\n",
    "# if distance based model is used, then u need to call this \n",
    "# It seems that the popular model Xgbost doesnt need normalization\n",
    "def normalization(df,attr):\n",
    "    # filled when used\n",
    "    pass\n",
    "\n",
    "# get dummies for one categorial feature\n",
    "def dummy_one(df,attr):\n",
    "    h_dummies = pd.get_dummies(df[attr],prefix=attr)\n",
    "    df.drop([attr],axis=1,inplace=True)\n",
    "    df = df.join(h_dummies)\n",
    "    return df\n",
    "# all_data = dummy_one(all_data, 'Alley')    \n",
    " \n",
    "# get dummies for all categorial features in df\n",
    "def dummy_all(df):\n",
    "    df = pd.get_dummies(df)\n",
    "    return df\n",
    "#all_data = dummy_all(all_data)\n",
    "#all_data.info(verbose=True,max_cols=1000)\n",
    "\n",
    "from scipy.stats import skew\n",
    "# Attetion here: for log transform to make features more normally distributed and \n",
    "# this makes linear regression preform better, since linear regression is sensitive to outliers.\n",
    "# But!! ! note that if a tree-based model is used, then this log transform is not necessary.\n",
    "# In a word, many preprecessing steps must be contacted to ur model used.\n",
    "\n",
    "# the predict object or features could be skewed, we can do log tansform for those variables\n",
    "# do log transform for one feature/target\n",
    "# threshold: determine whether to do log transform on this feature/target\n",
    "def log_skewed_one(df, attr, threshold):\n",
    "    # calculate the skewness\n",
    "    skewness = skew(df[attr].dropna())\n",
    "    if skewness > threshold:\n",
    "        df[attr] = np.log1p(df[attr])\n",
    "#log_skewed_one(train, 'SalePrice', 0.75)\n",
    "#train['SalePrice'].hist()\n",
    "\n",
    "def log_skewed_all(df,threshold):\n",
    "    # get index of all numeric features\n",
    "    numeric_feats = df.dtypes[df.dtypes != 'object'].index\n",
    "    # then compute the skewness for each features\n",
    "    skewed_feats = df[numeric_feats].apply(lambda x: skew(x.dropna()))\n",
    "    # get the features whose skeness>0.75\n",
    "    skewed_feats = skewed_feats[skewed_feats>threshold]\n",
    "    skewed_feats = skewed_feats.index\n",
    "    df[skewed_feats] = np.log1p(df[skewed_feats])\n",
    "#log_skewed_all(train,0.75)\n",
    "#train['SalePrice'].hist()"
   ]
  },
  {
   "cell_type": "code",
   "execution_count": 4,
   "metadata": {
    "collapsed": true
   },
   "outputs": [],
   "source": [
    "# PART FOUR: Feature Decomposition\n",
    "\n",
    "from sklearn.decomposition import PCA\n",
    "# Note that the input df must not have categorial features or missing value,\n",
    "# do this after preprocessing fo filling missing value and feature transformation\n",
    "def pca_reduc(df, num_fea_toleave='mle'):\n",
    "    # @return type: pd.DataFrame\n",
    "    pca = PCA(n_components=num_fea_toleave)\n",
    "    after_pca = pca.fit_transform(df)\n",
    "    print 'Percentage of variance explained by each of the selected components:'\n",
    "    print(pca.explained_variance_ratio_)\n",
    "    #print pd.DataFrame(new).info()\n",
    "    return pd.DataFrame(after_pca)\n",
    "#all_data = dummy_all(all_data)\n",
    "#all_data.fillna(all_data.mean(),inplace=True)\n",
    "#all_data = pca_reduc(all_data,30)\n",
    "#all_data.info(verbose=True, max_cols=1000)\n",
    "\n",
    "from sklearn.decomposition import KernelPCA\n",
    "# Kernel PCA ==> non-linear dimensionality reduction through the use of kernels\n",
    "# Somewhat like kernel in SVM\n",
    "# kernel = “linear” | “poly” | “rbf” | “sigmoid” | “cosine” | “precomputed”\n",
    "def kernelpca_reduc(df, kernel='linear',num_fea_toleave=50):\n",
    "    kpca = KernelPCA(n_components=num_fea_toleave,kernel = kernel,n_jobs=-1)\n",
    "    after_kpca = kpca.fit_transform(df)\n",
    "    print 'the selected features Eigenvalues in decreasing order:'\n",
    "    print (kpca.lambdas_)\n",
    "    return pd.DataFrame(after_kpca)\n",
    "#all_data = dummy_all(all_data)\n",
    "#all_data.fillna(all_data.mean(),inplace=True)\n",
    "#all_data = kernelpca_reduc(all_data,kernel='rbf',num_fea_toleave=50)\n",
    "#print all_data.shape\n",
    "\n",
    "from sklearn.decomposition import TruncatedSVD\n",
    "# Dimensionality reduction using truncated SVD\n",
    "def truncatedSVD_reduc(df,num_fea_toleave=50):\n",
    "    # provide a random_state to get stable output\n",
    "    svd = TruncatedSVD(n_components=num_fea_toleave, n_iter=7, random_state=42)\n",
    "    after_trans = svd.fit_transform(df)\n",
    "    print 'Percentage of variance explained by each of the selected components:'\n",
    "    print(svd.explained_variance_ratio_) \n",
    "    return pd.DataFrame(after_trans)\n",
    "#all_data = dummy_all(all_data)\n",
    "#all_data.fillna(all_data.mean(),inplace=True)\n",
    "#all_data = truncatedSVD_reduc(all_data,num_fea_toleave=50)\n",
    "#print all_data.shape"
   ]
  },
  {
   "cell_type": "code",
   "execution_count": 5,
   "metadata": {
    "collapsed": true
   },
   "outputs": [],
   "source": [
    "# PART FIVE: Feature Selection\n",
    "\n",
    "from sklearn.feature_selection import RFECV\n",
    "# RFECV: Feature ranking with recursive feature elimination and cross-validated selection of the best number of features.\n",
    "def fea_sel_rfecv(train_x,train_y,test_x,estimator):\n",
    "    rfecv = RFECV(estimator=estimator,scoring='neg_mean_squared_error',n_jobs=-1)\n",
    "    after_d = rfecv.fit_transform(train_x,train_y)\n",
    "    print(\"Optimal number of features : %d\" % rfecv.n_features_)\n",
    "    # Plot number of features VS. cross-validation scores\n",
    "    plt.figure()\n",
    "    plt.xlabel(\"Number of features selected\")\n",
    "    plt.ylabel(\"Cross validation score(neg_mean_squared_error)\")\n",
    "    plt.plot(range(1, len(rfecv.grid_scores_) + 1), rfecv.grid_scores_)\n",
    "    return pd.DataFrame(after_d),pd.DataFrame(rfecv.transform(test_x))\n",
    "#alldata_nomissing = pd.read_csv('../input/alldata_after_filling_missing.csv')\n",
    "#from sklearn import svm\n",
    "#clf = svm.LinearSVR()\n",
    "#after_d,after_d_test = (fea_sel_rfecv(alldata_nomissing.iloc[:1460],train['SalePrice'],alldata_nomissing.iloc[1460:],clf))\n",
    "#print after_d.shape\n",
    "#print after_d_test.shape\n",
    "\n",
    "from sklearn.feature_selection import SelectFromModel\n",
    "# u can see from 'SelectFromModel' that this method use model result to select features, 'Wrapper'\n",
    "# estimator: a supervised model with fit() method\n",
    "def fea_sel_tree(train_x,train_y,estimator):\n",
    "    estimator = estimator.fit(train_x,train_x)\n",
    "    print 'feature importances in this model',\n",
    "    print sorted(estimator.feature_importances_,reverse=True)\n",
    "    model = SelectFromModel(estimator,prefit = True)\n",
    "    after_sel = model.transform(train_x)\n",
    "    return pd.DataFrame(after_sel)\n",
    "#train = dummy_all(train)\n",
    "#train.fillna(train.mean(),inplace=True)\n",
    "#from sklearn.ensemble import RandomForestRegressor\n",
    "#clf = RandomForestRegressor(random_state=0,n_estimators=50)\n",
    "#print fea_sel_tree(train.iloc[:,1:-1],train['SalePrice'],clf).shape"
   ]
  },
  {
   "cell_type": "code",
   "execution_count": 6,
   "metadata": {
    "collapsed": false
   },
   "outputs": [
    {
     "name": "stdout",
     "output_type": "stream",
     "text": [
      "<class 'pandas.core.frame.DataFrame'>\n",
      "Int64Index: 2919 entries, 0 to 1458\n",
      "Data columns (total 79 columns):\n",
      "MSSubClass       2919 non-null int64\n",
      "MSZoning         2915 non-null object\n",
      "LotFrontage      2433 non-null float64\n",
      "LotArea          2919 non-null int64\n",
      "Street           2919 non-null object\n",
      "Alley            198 non-null object\n",
      "LotShape         2919 non-null object\n",
      "LandContour      2919 non-null object\n",
      "Utilities        2917 non-null object\n",
      "LotConfig        2919 non-null object\n",
      "LandSlope        2919 non-null object\n",
      "Neighborhood     2919 non-null object\n",
      "Condition1       2919 non-null object\n",
      "Condition2       2919 non-null object\n",
      "BldgType         2919 non-null object\n",
      "HouseStyle       2919 non-null object\n",
      "OverallQual      2919 non-null int64\n",
      "OverallCond      2919 non-null int64\n",
      "YearBuilt        2919 non-null int64\n",
      "YearRemodAdd     2919 non-null int64\n",
      "RoofStyle        2919 non-null object\n",
      "RoofMatl         2919 non-null object\n",
      "Exterior1st      2918 non-null object\n",
      "Exterior2nd      2918 non-null object\n",
      "MasVnrType       2895 non-null object\n",
      "MasVnrArea       2896 non-null float64\n",
      "ExterQual        2919 non-null object\n",
      "ExterCond        2919 non-null object\n",
      "Foundation       2919 non-null object\n",
      "BsmtQual         2838 non-null object\n",
      "BsmtCond         2837 non-null object\n",
      "BsmtExposure     2837 non-null object\n",
      "BsmtFinType1     2840 non-null object\n",
      "BsmtFinSF1       2918 non-null float64\n",
      "BsmtFinType2     2839 non-null object\n",
      "BsmtFinSF2       2918 non-null float64\n",
      "BsmtUnfSF        2918 non-null float64\n",
      "TotalBsmtSF      2918 non-null float64\n",
      "Heating          2919 non-null object\n",
      "HeatingQC        2919 non-null object\n",
      "CentralAir       2919 non-null object\n",
      "Electrical       2918 non-null object\n",
      "1stFlrSF         2919 non-null int64\n",
      "2ndFlrSF         2919 non-null int64\n",
      "LowQualFinSF     2919 non-null int64\n",
      "GrLivArea        2919 non-null int64\n",
      "BsmtFullBath     2917 non-null float64\n",
      "BsmtHalfBath     2917 non-null float64\n",
      "FullBath         2919 non-null int64\n",
      "HalfBath         2919 non-null int64\n",
      "BedroomAbvGr     2919 non-null int64\n",
      "KitchenAbvGr     2919 non-null int64\n",
      "KitchenQual      2918 non-null object\n",
      "TotRmsAbvGrd     2919 non-null int64\n",
      "Functional       2917 non-null object\n",
      "Fireplaces       2919 non-null int64\n",
      "FireplaceQu      1499 non-null object\n",
      "GarageType       2762 non-null object\n",
      "GarageYrBlt      2760 non-null float64\n",
      "GarageFinish     2760 non-null object\n",
      "GarageCars       2918 non-null float64\n",
      "GarageArea       2918 non-null float64\n",
      "GarageQual       2760 non-null object\n",
      "GarageCond       2760 non-null object\n",
      "PavedDrive       2919 non-null object\n",
      "WoodDeckSF       2919 non-null int64\n",
      "OpenPorchSF      2919 non-null int64\n",
      "EnclosedPorch    2919 non-null int64\n",
      "3SsnPorch        2919 non-null int64\n",
      "ScreenPorch      2919 non-null int64\n",
      "PoolArea         2919 non-null int64\n",
      "PoolQC           10 non-null object\n",
      "Fence            571 non-null object\n",
      "MiscFeature      105 non-null object\n",
      "MiscVal          2919 non-null int64\n",
      "MoSold           2919 non-null int64\n",
      "YrSold           2919 non-null int64\n",
      "SaleType         2918 non-null object\n",
      "SaleCondition    2919 non-null object\n",
      "dtypes: float64(11), int64(25), object(43)\n",
      "memory usage: 1.8+ MB\n",
      "None\n"
     ]
    }
   ],
   "source": [
    "train,test,all_data = read_data()\n",
    "print all_data.info()"
   ]
  },
  {
   "cell_type": "code",
   "execution_count": 6,
   "metadata": {
    "collapsed": false
   },
   "outputs": [],
   "source": [
    "def missing_data_fill():\n",
    "    train,test,all_data = read_data()\n",
    "    # step1:\n",
    "    # for features that having many missing values(more than half): ano_value_for_missing value\n",
    "    # ir for the features whose NA has special meaning, like BsmtQual\n",
    "    # dummy_na = True means 'Add a column to indicate NaNs'\n",
    "\n",
    "    all_data = pd.get_dummies(all_data,dummy_na=True,columns=['Alley','FireplaceQu','PoolQC','Fence',\n",
    "                                                           'MiscFeature','BsmtQual','GarageFinish'])\n",
    "\n",
    "    # filling missing value with mean()/ mode   \n",
    "    for attr in ['MSZoning','LotFrontage','Utilities','BsmtFinSF2','BsmtHalfBath',\n",
    "             'BsmtUnfSF','TotalBsmtSF','Electrical','BsmtFullBath','Functional','GarageType',\n",
    "             'GarageQual','GarageCond','SaleType','Exterior1st','Exterior2nd','MasVnrType','KitchenQual']:\n",
    "        mean_fill(all_data,attr)\n",
    "    # step2:\n",
    "    # along with filling missing values, we do data transformation\n",
    "    all_data = pd.get_dummies(all_data)\n",
    "    # for important feature: randomforest_fill\n",
    "    # could be better to do this after dummies all the object features\n",
    "    for attr in ['MasVnrArea','BsmtFinSF1','GarageYrBlt','GarageCars','GarageArea']:\n",
    "        randomforest_fill(all_data,attr)\n",
    "    all_data.to_csv('../input/alldata_after_filling_missing.csv',index=False)\n",
    "    #all_data.info(verbose=True,max_cols=1000)\n",
    "    ## show the columns that containing null value\n",
    "    #all_data.loc[:,all_data.isnull().any().values==True]\n",
    "    ## show the columns whose type is 'object'\n",
    "    #all_data.loc[:,all_data.dtypes=='object']"
   ]
  },
  {
   "cell_type": "code",
   "execution_count": 53,
   "metadata": {
    "collapsed": false
   },
   "outputs": [
    {
     "name": "stdout",
     "output_type": "stream",
     "text": [
      "Optimal number of features : 217\n",
      "(1460, 217)\n",
      "(1459, 217)\n"
     ]
    },
    {
     "data": {
      "image/png": "[encoded data removed]",
      "text/plain": [
       "<matplotlib.figure.Figure at 0x7f29d4120ad0>"
      ]
     },
     "metadata": {},
     "output_type": "display_data"
    }
   ],
   "source": [
    "# step3:\n",
    "# we use feature selection to exclude some very unimportant features firstly.\n",
    "alldata_nomissing = pd.read_csv('../input/alldata_after_filling_missing.csv')\n",
    "\n",
    "#print alldata_nomissing.info(verbose=True,max_cols=1000)\n",
    "from sklearn import svm\n",
    "clf = svm.LinearSVR()\n",
    "after_d,after_d_test = (fea_sel_rfecv(alldata_nomissing.iloc[:1460],train['SalePrice'],alldata_nomissing.iloc[1460:],clf))\n",
    "print after_d.shape\n",
    "print after_d_test.shape"
   ]
  },
  {
   "cell_type": "code",
   "execution_count": null,
   "metadata": {
    "collapsed": false
   },
   "outputs": [],
   "source": [
    "train,test,all_data = read_data()\n",
    "alldata_nomissing = pd.read_csv('../input/alldata_after_filling_missing.csv')\n",
    "# lets skip feature transformation first, just fit the model directly.\n",
    "# xgboost\n",
    "import xgboost as xgb\n",
    "#dtrain = xgb.DMatrix(after_d,label=train['SalePrice'])\n",
    "model_xgb = xgb.XGBRegressor(n_estimators=360, max_depth=2, learning_rate=0.1)\n",
    "model_xgb.fit(alldata_nomissing.iloc[:1460],train['SalePrice'])\n",
    "pre_val = pd.DataFrame(model_xgb.predict(alldata_nomissing.iloc[1460:]))\n",
    "test_label = pd.read_csv('../input/test_id',header=None)\n",
    "result = pd.DataFrame()\n",
    "result['Id'] = test_label[0]\n",
    "result['SalePrice'] = pre_val[0]\n",
    "result.to_csv('../input/result_xgb_1123_nofeaselec.csv',index=False)"
   ]
  },
  {
   "cell_type": "raw",
   "metadata": {
    "collapsed": true
   },
   "source": []
  },
  {
   "cell_type": "code",
   "execution_count": null,
   "metadata": {
    "collapsed": false
   },
   "outputs": [],
   "source": [
    "train,test,all_data = read_data()\n",
    "alldata_nomissing = pd.read_csv('../input/alldata_after_filling_missing.csv')\n",
    "from sklearn.pipeline import Pipeline\n",
    "import xgboost as xgb\n",
    "from sklearn.decomposition import PCA\n",
    "from sklearn.decomposition import PCA, NMF\n",
    "from sklearn.feature_selection import SelectKBest, chi2\n",
    "from sklearn.model_selection import GridSearchCV\n",
    "# the key in the dict of Pipeline is the name u want give to the step\n",
    "pipe = Pipeline([\n",
    "        ('reduce_dim',PCA()),\n",
    "        ('regression',xgb.XGBRegressor())\n",
    "    ])\n",
    "# optional for feature nums\n",
    "N_FEATURES_OPTIONS = [i for i in range(30,250,30)]\n",
    "#N_ESTIMATOR_OPTIONS = [i for i in range(300,500,20)]\n",
    "N_ESTIMATOR_OPTIONS = [i for i in range(300,500,100)]\n",
    "param_grid=[\n",
    "    {\n",
    "        'reduce_dim': [PCA(iterated_power=7), NMF()],\n",
    "        'reduce_dim__n_components': N_FEATURES_OPTIONS,\n",
    "        'regression__n_estimators': N_ESTIMATOR_OPTIONS\n",
    "    }\n",
    "]\n",
    "\n",
    "'''\n",
    "param_grid=[\n",
    "    {\n",
    "        'reduce_dim': [PCA(iterated_power=7), NMF()],\n",
    "        'reduce_dim__n_components': N_FEATURES_OPTIONS,\n",
    "        'regression__n_estimators': N_ESTIMATOR_OPTIONS\n",
    "    },\n",
    "    {\n",
    "        'reduce_dim': [SelectKBest(chi2)],\n",
    "        'reduce_dim__k': N_FEATURES_OPTIONS,\n",
    "        'regression_n_estimators': N_ESTIMATOR_OPTIONS\n",
    "    }\n",
    "]\n",
    "'''\n",
    "grid = GridSearchCV(pipe, cv=3, n_jobs=-1, param_grid=param_grid)\n",
    "grid.fit(alldata_nomissing.iloc[:1460],train['SalePrice'])\n",
    "mean_scores = np.array(grid.cv_results_['mean_test_score'])"
   ]
  },
  {
   "cell_type": "code",
   "execution_count": 1,
   "metadata": {
    "collapsed": false
   },
   "outputs": [],
   "source": [
    "#train,test,all_data = read_data()\n",
    "alldata_nomissing = pd.read_csv('../input/alldata_after_filling_missing.csv')\n",
    "log_skewed_all(alldata_nomissing,0.75)\n",
    "alldata_nomissing.to_csv('../input/alldata_after_filling_missing_skew.csv',index=False)\n",
    "#alldata_nomissing.head()\n",
    "#train['SalePrice'].to_csv('../input/train_label_initial',index=False,header=False)"
   ]
  },
  {
   "cell_type": "code",
   "execution_count": 2,
   "metadata": {
    "collapsed": true
   },
   "outputs": [],
   "source": [
    "# actually, we can do some operations on features, and get more features to select.\n",
    "# Its shown that results from features may also work.\n",
    "# for example, alpha = num_buy/num_click do means something in shopping website's analysis."
   ]
  },
  {
   "cell_type": "code",
   "execution_count": 3,
   "metadata": {
    "collapsed": true
   },
   "outputs": [],
   "source": [
    "# dummies之后删除所有值都相同的列 #实际上所有dummies的feature中全为0的column都不存在"
   ]
  },
  {
   "cell_type": "code",
   "execution_count": null,
   "metadata": {
    "collapsed": true
   },
   "outputs": [],
   "source": []
  },
  {
   "cell_type": "code",
   "execution_count": null,
   "metadata": {
    "collapsed": true
   },
   "outputs": [],
   "source": []
  },
  {
   "cell_type": "code",
   "execution_count": null,
   "metadata": {
    "collapsed": true
   },
   "outputs": [],
   "source": []
  }
 ],
 "metadata": {
  "kernelspec": {
   "display_name": "Python 2",
   "language": "python",
   "name": "python2"
  },
  "language_info": {
   "codemirror_mode": {
    "name": "ipython",
    "version": 2
   },
   "file_extension": ".py",
   "mimetype": "text/x-python",
   "name": "python",
   "nbconvert_exporter": "python",
   "pygments_lexer": "ipython2",
   "version": "2.7.9"
  }
 },
 "nbformat": 4,
 "nbformat_minor": 1
}
