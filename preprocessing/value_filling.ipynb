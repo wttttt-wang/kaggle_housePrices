{
 "cells": [
  {
   "cell_type": "code",
   "execution_count": 9,
   "metadata": {
    "collapsed": false
   },
   "outputs": [],
   "source": [
    "import pandas as pd\n",
    "import numpy as np\n",
    "from scipy.stats import skew\n",
    "import matplotlib.pyplot as plt\n",
    "%matplotlib inline\n",
    "#step1:reading csv data\n",
    "train = pd.read_csv('../input/train.csv')\n",
    "test = pd.read_csv('../input/test.csv')\n",
    "#train.head()   # take a brief look at training data\n",
    "all_data = pd.concat((train.loc[:,'MSSubClass':'SaleCondition'],\n",
    "                      test.loc[:,'MSSubClass':'SaleCondition'])) # concat training&test data"
   ]
  },
  {
   "cell_type": "code",
   "execution_count": null,
   "metadata": {
    "collapsed": false
   },
   "outputs": [],
   "source": []
  },
  {
   "cell_type": "code",
   "execution_count": 80,
   "metadata": {
    "collapsed": false
   },
   "outputs": [],
   "source": [
    "from scipy.stats import mode\n",
    "# for numeric features, filling with mean(), for categorial features, filling with mode()[most common]\n",
    "def mean_fill(df,attr):\n",
    "    if df[attr].dtype == 'object':\n",
    "        df[attr].fillna(mode(df[attr]).mode[0],inplace=True)\n",
    "    else:\n",
    "        df[attr].fillna(df[attr].mean(),inplace=True)\n",
    "# #test for categorial feature\n",
    "# mean_fill(all_data,'GarageCond')"
   ]
  },
  {
   "cell_type": "code",
   "execution_count": 85,
   "metadata": {
    "collapsed": false
   },
   "outputs": [
    {
     "data": {
      "text/plain": [
       "' # output \\n234    82.882\\n234     0.000\\nName: MasVnrArea, dtype: float64\\n'"
      ]
     },
     "execution_count": 85,
     "metadata": {},
     "output_type": "execute_result"
    }
   ],
   "source": [
    "from sklearn.ensemble import RandomForestRegressor\n",
    "def randomforest_fill(df,attr):\n",
    "    # get all the numeric features to predict the missing value, because\n",
    "    # that sklearn's random forest algo can only handle numeric features.\n",
    "    # It could be better to transform the categorial features before calling this method\n",
    "    numeric_df = all_data.loc[:,all_data.isnull().any().values==False].select_dtypes(include = ['float64','int64'])\n",
    "    numeric_df[attr]=df[attr]\n",
    "    numeric_df_notnull = numeric_df.loc[(df[attr].notnull())]\n",
    "    numeric_df_isnull = numeric_df.loc[(df[attr].isnull())]\n",
    "    X = numeric_df_notnull.drop(attr,axis=1)\n",
    "    Y = numeric_df_notnull[attr]\n",
    "    # use RandomForest to train data\n",
    "    clf = RandomForestRegressor(n_estimators = 1000, n_jobs = -1) # n_jobs:The number of jobs to run in parallel for both fit and predict. If -1, then the number of jobs is set to the number of cores\n",
    "    clf.fit(X,Y)\n",
    "    predicted_attr = clf.predict(numeric_df_isnull.drop(attr,axis=1))\n",
    "    df.loc[(df[attr].isnull()),attr] = predicted_attr\n",
    "\n",
    "#randomforest_fill(all_data,'MasVnrArea')\n",
    "## before filling the missing value\n",
    "#all_data.loc[234]['MasVnrArea']\n",
    "''' # output\n",
    "234    NaN\n",
    "234    0.0\n",
    "Name: MasVnrArea, dtype: float64\n",
    "'''\n",
    "## after filling the missing value\n",
    "#all_data.loc[234]['MasVnrArea']\n",
    "''' # output \n",
    "234    82.882\n",
    "234     0.000\n",
    "Name: MasVnrArea, dtype: float64\n",
    "'''"
   ]
  },
  {
   "cell_type": "raw",
   "metadata": {},
   "source": []
  },
  {
   "cell_type": "code",
   "execution_count": 93,
   "metadata": {
    "collapsed": false
   },
   "outputs": [],
   "source": [
    "# treat the missing value as a different value\n",
    "def ano_value_for_miss(df,attr):\n",
    "    df[attr].fillna('No_value',inplace=True)\n",
    "\n",
    "## test\n",
    "# ano_value_for_miss(all_data, 'Alley')"
   ]
  },
  {
   "cell_type": "code",
   "execution_count": 90,
   "metadata": {
    "collapsed": false
   },
   "outputs": [],
   "source": [
    "# data normalization for numeric feature\n",
    "# whether to use this method depends on the model used\n",
    "# if distance based model is used, then u need to call this \n",
    "# It seems that the popular model Xgbost doesnt need normalization\n",
    "def normalization(df,attr):\n",
    "    # filled when used\n",
    "    pass"
   ]
  },
  {
   "cell_type": "code",
   "execution_count": 2,
   "metadata": {
    "collapsed": false
   },
   "outputs": [],
   "source": [
    "# get dummies for one categorial feature\n",
    "def dummy_one(df,attr):\n",
    "    h_dummies = pd.get_dummies(df[attr],prefix=attr)\n",
    "    df.drop([attr],axis=1,inplace=True)\n",
    "    df = df.join(h_dummies)\n",
    "    return df\n",
    "# all_data = dummy_one(all_data, 'Alley')    \n",
    " \n",
    "# get dummies for all categorial features in df\n",
    "def dummy_all(df):\n",
    "    df = pd.get_dummies(df)\n",
    "    return df\n",
    "#all_data = dummy_all(all_data)\n",
    "#all_data.info(verbose=True,max_cols=1000)"
   ]
  },
  {
   "cell_type": "code",
   "execution_count": 45,
   "metadata": {
    "collapsed": false
   },
   "outputs": [],
   "source": [
    "from scipy.stats import skew\n",
    "# Attetion here: for log transform to make features more normally distributed and \n",
    "# this makes linear regression preform better, since linear regression is sensitive to outliers.\n",
    "# But!! ! note that if a tree-based model is used, then this log transform is not necessary.\n",
    "# In a word, many preprecessing steps must be contacted to ur model used.\n",
    "\n",
    "# the predict object or features could be skewed, we can do log tansform for those variables\n",
    "# do log transform for one feature/target\n",
    "# threshold: determine whether to do log transform on this feature/target\n",
    "def log_skewed_one(df, attr, threshold):\n",
    "    # calculate the skewness\n",
    "    skewness = skew(df[attr].dropna())\n",
    "    if skewness > threshold:\n",
    "        df[attr] = np.log1p(df[attr])\n",
    "#log_skewed_one(train, 'SalePrice', 0.75)\n",
    "#train['SalePrice'].hist()\n",
    "\n",
    "def log_skewed_all(df,threshold):\n",
    "    # get index of all numeric features\n",
    "    numeric_feats = df.dtypes[df.dtypes != 'object'].index\n",
    "    # then compute the skewness for each features\n",
    "    skewed_feats = df[numeric_feats].apply(lambda x: skew(x.dropna()))\n",
    "    # get the features whose skeness>0.75\n",
    "    skewed_feats = skewed_feats[skewed_feats>threshold]\n",
    "    skewed_feats = skewed_feats.index\n",
    "    df[skewed_feats] = np.log1p(df[skewed_feats])\n",
    "#log_skewed_all(train,0.75)\n",
    "#train['SalePrice'].hist()"
   ]
  },
  {
   "cell_type": "code",
   "execution_count": 100,
   "metadata": {
    "collapsed": false
   },
   "outputs": [],
   "source": [
    "from sklearn.decomposition import PCA\n",
    "# Note that the input df must not have categorial features or missing value,\n",
    "# do this after preprocessing fo filling missing value and feature transformation\n",
    "def pca_reduc(df, num_fea_toleave='mle'):\n",
    "    # @return type: pd.DataFrame\n",
    "    pca = PCA(n_components=num_fea_toleave)\n",
    "    after_pca = pca.fit_transform(df)\n",
    "    print 'Percentage of variance explained by each of the selected components:'\n",
    "    print(pca.explained_variance_ratio_)\n",
    "    #print pd.DataFrame(new).info()\n",
    "    return pd.DataFrame(after_pca)\n",
    "#all_data = dummy_all(all_data)\n",
    "#all_data.fillna(all_data.mean(),inplace=True)\n",
    "#all_data = pca_reduc(all_data,30)\n",
    "#all_data.info(verbose=True, max_cols=1000)"
   ]
  },
  {
   "cell_type": "code",
   "execution_count": 101,
   "metadata": {
    "collapsed": false
   },
   "outputs": [],
   "source": [
    "from sklearn.decomposition import KernelPCA\n",
    "# Kernel PCA ==> non-linear dimensionality reduction through the use of kernels\n",
    "# Somewhat like kernel in SVM\n",
    "# kernel = “linear” | “poly” | “rbf” | “sigmoid” | “cosine” | “precomputed”\n",
    "def kernelpca_reduc(df, kernel='linear',num_fea_toleave=50):\n",
    "    kpca = KernelPCA(n_components=num_fea_toleave,kernel = kernel,n_jobs=-1)\n",
    "    after_kpca = kpca.fit_transform(df)\n",
    "    print 'the selected features Eigenvalues in decreasing order:'\n",
    "    print (kpca.lambdas_)\n",
    "    return pd.DataFrame(after_kpca)\n",
    "#all_data = dummy_all(all_data)\n",
    "#all_data.fillna(all_data.mean(),inplace=True)\n",
    "#all_data = kernelpca_reduc(all_data,kernel='rbf',num_fea_toleave=50)\n",
    "#print all_data.shape"
   ]
  },
  {
   "cell_type": "code",
   "execution_count": 10,
   "metadata": {
    "collapsed": false
   },
   "outputs": [],
   "source": [
    "from sklearn.decomposition import TruncatedSVD\n",
    "# Dimensionality reduction using truncated SVD\n",
    "def truncatedSVD_reduc(df,num_fea_toleave=50):\n",
    "    # provide a random_state to get stable output\n",
    "    svd = TruncatedSVD(n_components=num_fea_toleave, n_iter=7, random_state=42)\n",
    "    after_trans = svd.fit_transform(df)\n",
    "    print 'Percentage of variance explained by each of the selected components:'\n",
    "    print(svd.explained_variance_ratio_) \n",
    "    return pd.DataFrame(after_trans)\n",
    "#all_data = dummy_all(all_data)\n",
    "#all_data.fillna(all_data.mean(),inplace=True)\n",
    "#all_data = truncatedSVD_reduc(all_data,num_fea_toleave=50)\n",
    "#print all_data.shape"
   ]
  },
  {
   "cell_type": "code",
   "execution_count": 16,
   "metadata": {
    "collapsed": false
   },
   "outputs": [
    {
     "name": "stdout",
     "output_type": "stream",
     "text": [
      "Optimal number of features : 1\n"
     ]
    },
    {
     "data": {
      "image/png": "[encoded data removed]",
      "text/plain": [
       "<matplotlib.figure.Figure at 0x7ffacf478890>"
      ]
     },
     "metadata": {},
     "output_type": "display_data"
    }
   ],
   "source": [
    "from sklearn.feature_selection import RFECV\n",
    "def fea_sel_rfecv(train_x,train_y,estimator):\n",
    "    rfecv = RFECV(estimator=estimator,scoring='neg_mean_squared_error',n_jobs=-1)\n",
    "    rfecv.fit(train_x,train_y)\n",
    "    print(\"Optimal number of features : %d\" % rfecv.n_features_)\n",
    "    # Plot number of features VS. cross-validation scores\n",
    "    plt.figure()\n",
    "    plt.xlabel(\"Number of features selected\")\n",
    "    plt.ylabel(\"Cross validation score(neg_mean_squared_error)\")\n",
    "    plt.plot(range(1, len(rfecv.grid_scores_) + 1), rfecv.grid_scores_)\n",
    "#train = dummy_all(train)\n",
    "#train.fillna(train.mean(),inplace=True)\n",
    "#from sklearn import svm\n",
    "#clf = svm.LinearSVR()\n",
    "#fea_sel_rfecv(train.iloc[:,1:-1],train['SalePrice'],clf)"
   ]
  },
  {
   "cell_type": "code",
   "execution_count": 10,
   "metadata": {
    "collapsed": false
   },
   "outputs": [
    {
     "name": "stdout",
     "output_type": "stream",
     "text": [
      "feature importances in this model [0.98000781452918662, 0.0053984908681043494, 0.001102063486300951, 0.00074209174757163942, 0.00068996210853836961, 0.00066708030615678549, 0.0006489626403154826, 0.00050391734372790822, 0.00049315943905588796, 0.00047094000671370277, 0.00044153876920138271, 0.00041722192715090597, 0.00036745768418134083, 0.0003381357413881645, 0.0003341630614274668, 0.00032345761117464456, 0.00029386284520929463, 0.00028566603118128435, 0.00028267497504087661, 0.00027649037526597824, 0.00027644801294989424, 0.00026599671156190196, 0.00026506697130850373, 0.00024953197896268164, 0.00023652909262425269, 0.00022003325549557556, 0.00019913031366764828, 0.00019433459285007253, 0.00019201461150636725, 0.00017186175900870429, 0.00017026584523794277, 0.00015536757618660196, 0.00013487752692866118, 0.00013297787614234116, 0.00012547724533254178, 0.0001236218884256175, 0.00011570667662910186, 0.00010254979122568836, 0.00010249541458522161, 9.8818058643856211e-05, 9.6454218642988909e-05, 9.5412435654551321e-05, 9.0175510566093848e-05, 8.4299908152892568e-05, 8.2814127561746156e-05, 8.1141271573167222e-05, 7.885973989568427e-05, 7.8531940597857642e-05, 7.5623728487740987e-05, 6.8956097547552984e-05, 6.8046598335597775e-05, 6.3528188983523362e-05, 6.1646721201248338e-05, 6.1202375432033661e-05, 6.031508469412344e-05, 5.8831339349191982e-05, 5.7565139281759291e-05, 5.678363978261375e-05, 4.7136826319013435e-05, 4.5385074057508308e-05, 4.4844346314708471e-05, 4.4363634401058848e-05, 4.0355260004832161e-05, 3.9559857987732129e-05, 3.8568470243298017e-05, 3.7747697126677595e-05, 3.1693211939784431e-05, 2.9876272668548598e-05, 2.7572224350443598e-05, 2.6547518131931747e-05, 2.4960739935290995e-05, 1.8149461373344482e-05, 1.6891511132641242e-05, 1.594060457269066e-05, 1.4971963184710857e-05, 1.4451905567808485e-05, 1.3656056300137684e-05, 1.3407984379798573e-05, 1.3137220249904999e-05, 1.2570292371686892e-05, 1.2570273579234059e-05, 1.1424020384157682e-05, 1.1380535180469171e-05, 1.1071643954767215e-05, 1.0850091729040502e-05, 1.0563680669681081e-05, 1.0283303693382883e-05, 1.0246719484502478e-05, 1.0232852776096222e-05, 1.0063751335925514e-05, 9.812874332033757e-06, 8.7444894016014737e-06, 8.6306036876938542e-06, 8.5563130518868263e-06, 8.5282742071779653e-06, 8.2303797345995752e-06, 8.0723588262042505e-06, 7.7777825367308087e-06, 7.6313920324225096e-06, 7.5434744331571439e-06, 7.5384618445732143e-06, 7.3963705128254681e-06, 7.2665446627555494e-06, 6.900164300426355e-06, 6.832225009574484e-06, 6.8204940176930914e-06, 6.7291154145037456e-06, 6.2251175577942797e-06, 6.0234060102139972e-06, 5.9709237448255823e-06, 5.9311768563884095e-06, 5.5570362778923591e-06, 5.3616995408893053e-06, 5.2737634319646005e-06, 5.2374270118974135e-06, 5.1505221651251719e-06, 4.9410065499382166e-06, 4.8090608325295748e-06, 4.8009033076683398e-06, 4.3450156510349571e-06, 4.2699106135014899e-06, 4.1982591615437618e-06, 3.6124826983578332e-06, 3.6036414195232501e-06, 3.6034817782063106e-06, 3.1818554049025797e-06, 3.1731832811402345e-06, 3.1424541358221854e-06, 2.9674701158262096e-06, 2.9633734720625781e-06, 2.8741634532041856e-06, 2.8715548572286131e-06, 2.8417322065743247e-06, 2.8323099063131808e-06, 2.7103308400125507e-06, 2.6337358515749994e-06, 2.5992098717237951e-06, 2.5561525115151688e-06, 2.4889504211942711e-06, 2.4844107798571793e-06, 2.3107589641544084e-06, 2.3043288078110558e-06, 2.1354170064917331e-06, 1.9004847973991404e-06, 1.8671977930889444e-06, 1.8648032701927133e-06, 1.8402450795944498e-06, 1.8153522081632e-06, 1.7835862203875198e-06, 1.7486275002539872e-06, 1.7239045566983858e-06, 1.7143966972980404e-06, 1.6982441277738986e-06, 1.678437773734072e-06, 1.6715331903558556e-06, 1.6145176984313028e-06, 1.607095852659783e-06, 1.5971398282060829e-06, 1.5710740632538252e-06, 1.5575066403148187e-06, 1.549705542081364e-06, 1.4666111018338027e-06, 1.4236852636873472e-06, 1.4015386082000414e-06, 1.3686928195354834e-06, 1.3146626589768873e-06, 1.2704955039679658e-06, 1.1810210084921827e-06, 1.0420125309834835e-06, 1.0282921702545541e-06, 1.0269504978068067e-06, 9.7757961866862064e-07, 9.2721205350139447e-07, 9.2049708866947498e-07, 8.8097836922398844e-07, 8.7055536046666183e-07, 8.6930267641234925e-07, 8.5259022464364626e-07, 8.3209349984688998e-07, 7.7851280998323121e-07, 7.4872967814003488e-07, 7.2904296470874606e-07, 6.7428109187191556e-07, 6.607347031390183e-07, 6.5823971592194176e-07, 6.4050044765529325e-07, 6.3849857958480101e-07, 6.048338721737892e-07, 5.6567771645518131e-07, 5.4294468456560817e-07, 5.0207327787811935e-07, 4.9653743347801847e-07, 4.8044126914796266e-07, 4.5570359186164372e-07, 4.481346824397134e-07, 4.4731700342200255e-07, 4.2581947049963236e-07, 4.1601175175699798e-07, 4.1360750293491389e-07, 3.9748076665965328e-07, 3.9619430794045841e-07, 3.8065752717276258e-07, 3.6140513627052823e-07, 3.327597472766434e-07, 3.1767976962580497e-07, 3.1422815846932366e-07, 3.1210939884126809e-07, 3.0808180097519349e-07, 3.0759863785268568e-07, 2.8651167425526998e-07, 2.3689112951373124e-07, 2.3533778078841428e-07, 2.346989964718506e-07, 2.3238056134777364e-07, 2.2372006749930305e-07, 2.1403432084170341e-07, 2.1231623646996248e-07, 1.7847667495834149e-07, 1.6324237005831067e-07, 1.4875422525172959e-07, 1.4291466604036113e-07, 1.379903530323791e-07, 1.360198216811717e-07, 1.3449230151382585e-07, 1.2931428421842477e-07, 1.2726213731688301e-07, 1.2392750230985716e-07, 1.2134507047588129e-07, 1.0756839130705724e-07, 9.3355429924977236e-08, 8.0061470597790924e-08, 7.9977295462962732e-08, 7.6533301469706048e-08, 7.6215002256117318e-08, 7.1243802724596435e-08, 6.3335106898822558e-08, 5.6008916723943458e-08, 4.9038915466487411e-08, 4.7113700092256007e-08, 4.5295561604528453e-08, 4.4804409275336123e-08, 3.9309927303412515e-08, 3.9270382476734227e-08, 3.8328595626295604e-08, 3.4692359094837279e-08, 3.4067120840708233e-08, 3.3831080318844913e-08, 3.1140143014497196e-08, 2.9930131760655356e-08, 2.8716843033631256e-08, 2.791378299366354e-08, 2.5614134127801347e-08, 2.3055691612254028e-08, 2.2669802865314886e-08, 2.0029871181165614e-08, 1.8180393056587979e-08, 1.5188720558582307e-08, 1.4681169665971415e-08, 1.3635754972601103e-08, 1.3337140583244726e-08, 9.6409929656972e-09, 6.6243010415932322e-09, 6.1188563827817101e-09, 5.9602138541719702e-09, 4.5764640894312165e-09, 4.1713242450777101e-09, 3.4460142288061614e-09, 3.3497513013191797e-09, 3.1072648899767669e-09, 2.9099510641524285e-09, 2.0442704236193939e-09, 1.8731333377187758e-09, 6.2973564777773679e-10, 0.0, 0.0, 0.0, 0.0, 0.0, 0.0, 0.0, 0.0, 0.0, 0.0, 0.0, 0.0, 0.0, 0.0, 0.0]\n",
      "(1460, 2)\n"
     ]
    }
   ],
   "source": [
    "from sklearn.feature_selection import SelectFromModel\n",
    "# u can see from 'SelectFromModel' that this method use model result to select features, 'Wrapper'\n",
    "# estimator: a supervised model with fit() method\n",
    "def fea_sel_tree(train_x,train_y,estimator):\n",
    "    estimator = estimator.fit(train_x,train_x)\n",
    "    print 'feature importances in this model',\n",
    "    print sorted(estimator.feature_importances_,reverse=True)\n",
    "    model = SelectFromModel(estimator,prefit = True)\n",
    "    after_sel = model.transform(train_x)\n",
    "    return pd.DataFrame(after_sel)\n",
    "#train = dummy_all(train)\n",
    "#train.fillna(train.mean(),inplace=True)\n",
    "#from sklearn.ensemble import RandomForestRegressor\n",
    "#clf = RandomForestRegressor(random_state=0,n_estimators=50)\n",
    "#print fea_sel_tree(train.iloc[:,1:-1],train['SalePrice'],clf).shape"
   ]
  },
  {
   "cell_type": "code",
   "execution_count": 3,
   "metadata": {
    "collapsed": true
   },
   "outputs": [],
   "source": []
  },
  {
   "cell_type": "code",
   "execution_count": null,
   "metadata": {
    "collapsed": true
   },
   "outputs": [],
   "source": []
  },
  {
   "cell_type": "code",
   "execution_count": null,
   "metadata": {
    "collapsed": true
   },
   "outputs": [],
   "source": []
  },
  {
   "cell_type": "code",
   "execution_count": null,
   "metadata": {
    "collapsed": true
   },
   "outputs": [],
   "source": []
  },
  {
   "cell_type": "code",
   "execution_count": null,
   "metadata": {
    "collapsed": true
   },
   "outputs": [],
   "source": []
  },
  {
   "cell_type": "code",
   "execution_count": 99,
   "metadata": {
    "collapsed": false
   },
   "outputs": [
    {
     "data": {
      "text/plain": [
       "<matplotlib.axes._subplots.AxesSubplot at 0x7f768f5e1c50>"
      ]
     },
     "execution_count": 99,
     "metadata": {},
     "output_type": "execute_result"
    },
    {
     "data": {
      "image/png": "[encoded data removed]",
      "text/plain": [
       "<matplotlib.figure.Figure at 0x7f768f751b50>"
      ]
     },
     "metadata": {},
     "output_type": "display_data"
    }
   ],
   "source": [
    "# flag: GarageCond属性值实际有值的很少\n",
    "all_data['GarageCond'].map({'Ex':0,'Gd':2,'TA':3,'Fa':4,'Po':5,'NA':6}).hist()"
   ]
  },
  {
   "cell_type": "code",
   "execution_count": null,
   "metadata": {
    "collapsed": true
   },
   "outputs": [],
   "source": []
  }
 ],
 "metadata": {
  "kernelspec": {
   "display_name": "Python 2",
   "language": "python",
   "name": "python2"
  },
  "language_info": {
   "codemirror_mode": {
    "name": "ipython",
    "version": 2
   },
   "file_extension": ".py",
   "mimetype": "text/x-python",
   "name": "python",
   "nbconvert_exporter": "python",
   "pygments_lexer": "ipython2",
   "version": "2.7.9"
  }
 },
 "nbformat": 4,
 "nbformat_minor": 1
}
