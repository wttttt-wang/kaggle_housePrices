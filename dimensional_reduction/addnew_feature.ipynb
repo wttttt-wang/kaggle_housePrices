{
 "cells": [
  {
   "cell_type": "code",
   "execution_count": 1,
   "metadata": {
    "collapsed": true
   },
   "outputs": [],
   "source": [
    "# PART ONE: Data Reading\n",
    "import pandas as pd\n",
    "import numpy as np\n",
    "from scipy.stats import skew\n",
    "import matplotlib.pyplot as plt\n",
    "%matplotlib inline\n",
    "import warnings # current version of seaborn generates a bunch of warnings that we'll ignore\n",
    "warnings.filterwarnings(\"ignore\")\n",
    "def read_data():\n",
    "    #step1:reading csv data\n",
    "    train = pd.read_csv('../input/train.csv')\n",
    "    test = pd.read_csv('../input/test.csv')\n",
    "    #train.head()   # take a brief look at training data\n",
    "    all_data = pd.concat((train.loc[:,'MSSubClass':'SaleCondition'],\n",
    "                      test.loc[:,'MSSubClass':'SaleCondition'])) # concat training&test data\n",
    "    return train,test,all_data\n",
    "#train,test,all_data = read_data()\n",
    "def model_input():\n",
    "    alldata_after_filling_missing_skew = pd.read_csv('../input/alldata_after_filling_missing_skew.csv')\n",
    "    y = pd.read_csv('../input/train_label_skew',header=None)\n",
    "    test_label = pd.read_csv('../input/test_id',header=None)\n",
    "    return alldata_after_filling_missing_skew,y,test_label\n",
    "#alldata_after_filling_missing_skew,y,test_label = model_input()"
   ]
  },
  {
   "cell_type": "code",
   "execution_count": 3,
   "metadata": {
    "collapsed": false
   },
   "outputs": [],
   "source": [
    "alldata_after_filling_missing_skew,y,test_label = model_input()"
   ]
  },
  {
   "cell_type": "code",
   "execution_count": 8,
   "metadata": {
    "collapsed": false
   },
   "outputs": [
    {
     "name": "stdout",
     "output_type": "stream",
     "text": [
      "('Skewness of the original intended feature:', 0.31460273921961057)\n",
      "('Skewness of transformed feature', 0.28503200531552075)\n"
     ]
    }
   ],
   "source": [
    "# add new feature \n",
    "feat_trial = (alldata_after_filling_missing_skew['1stFlrSF'] + alldata_after_filling_missing_skew['2ndFlrSF']).copy()\n",
    "print(\"Skewness of the original intended feature:\",skew(feat_trial))\n",
    "print(\"Skewness of transformed feature\", skew(np.log1p(feat_trial)))\n",
    "#feat_trial = np.log1p(feat_trial)  # log transform\n",
    "alldata_after_filling_missing_skew['1stFlr_2ndFlr_Sf'] = feat_trial"
   ]
  },
  {
   "cell_type": "code",
   "execution_count": 11,
   "metadata": {
    "collapsed": false
   },
   "outputs": [
    {
     "name": "stdout",
     "output_type": "stream",
     "text": [
      "('Skewness of the original intended feature:', 0.38913221266126463)\n",
      "('Skewness of transformed feature', 0.2942650304316986)\n"
     ]
    }
   ],
   "source": [
    "feat_trial = (alldata_after_filling_missing_skew['1stFlr_2ndFlr_Sf'] + alldata_after_filling_missing_skew['LowQualFinSF'] + alldata_after_filling_missing_skew['GrLivArea']).copy()\n",
    "print(\"Skewness of the original intended feature:\",skew(feat_trial))\n",
    "print(\"Skewness of transformed feature\", skew(np.log1p(feat_trial)))\n",
    "alldata_after_filling_missing_skew['All_Liv_SF'] = feat_trial"
   ]
  },
  {
   "cell_type": "code",
   "execution_count": 14,
   "metadata": {
    "collapsed": false
   },
   "outputs": [],
   "source": [
    "alldata_after_filling_missing_skew.to_csv('../input/alldata_after_filling_missing_skew_newfea.csv',index=False)"
   ]
  },
  {
   "cell_type": "code",
   "execution_count": 15,
   "metadata": {
    "collapsed": true
   },
   "outputs": [],
   "source": [
    "import xgboost as xgb\n",
    "model_xgb = xgb.XGBRegressor(n_estimators=360, max_depth=2, learning_rate=0.1)\n",
    "model_xgb.fit(alldata_after_filling_missing_skew.iloc[:1460],y)\n",
    "pre_val = np.expm1(pd.DataFrame(model_xgb.predict(alldata_after_filling_missing_skew.iloc[1460:])))\n",
    "test_label = pd.read_csv('../input/test_id',header=None)\n",
    "result = pd.DataFrame()\n",
    "result['Id'] = test_label[0]\n",
    "result['SalePrice'] = pre_val[0]\n",
    "result.to_csv('../input/result_xgb_1128_newfea_nofeaselec_skew.csv',index=None)"
   ]
  },
  {
   "cell_type": "code",
   "execution_count": null,
   "metadata": {
    "collapsed": true
   },
   "outputs": [],
   "source": []
  }
 ],
 "metadata": {
  "kernelspec": {
   "display_name": "Python 2",
   "language": "python",
   "name": "python2"
  },
  "language_info": {
   "codemirror_mode": {
    "name": "ipython",
    "version": 2
   },
   "file_extension": ".py",
   "mimetype": "text/x-python",
   "name": "python",
   "nbconvert_exporter": "python",
   "pygments_lexer": "ipython2",
   "version": "2.7.9"
  }
 },
 "nbformat": 4,
 "nbformat_minor": 1
}
